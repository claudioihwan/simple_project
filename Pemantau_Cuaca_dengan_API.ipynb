{
  "nbformat": 4,
  "nbformat_minor": 0,
  "metadata": {
    "colab": {
      "provenance": [],
      "include_colab_link": true
    },
    "kernelspec": {
      "name": "python3",
      "display_name": "Python 3"
    },
    "language_info": {
      "name": "python"
    }
  },
  "cells": [
    {
      "cell_type": "markdown",
      "metadata": {
        "id": "view-in-github",
        "colab_type": "text"
      },
      "source": [
        "<a href=\"https://colab.research.google.com/github/claudioihwan/simple_project/blob/main/Pemantau_Cuaca_dengan_API.ipynb\" target=\"_parent\"><img src=\"https://colab.research.google.com/assets/colab-badge.svg\" alt=\"Open In Colab\"/></a>"
      ]
    },
    {
      "cell_type": "code",
      "execution_count": null,
      "metadata": {
        "colab": {
          "base_uri": "https://localhost:8080/"
        },
        "id": "um9sBxXrvvqT",
        "outputId": "5a6776c5-c5c6-4aeb-a39a-ae4e221a512c",
        "cellView": "form"
      },
      "outputs": [
        {
          "output_type": "stream",
          "name": "stdout",
          "text": [
            "SELAMAT DATANG DI PEMANTAU CUACA\n",
            "Masukkan lokasi: semarang\n",
            "2023-01-24 10:20:37\n",
            "Cuaca di semarang sedikit awan\n",
            "Suhu \t\t:  30.11 derajat celcius\n",
            "Tekanan udara \t:  0.994 atm\n",
            "Kelembaban \t:  74 %\n"
          ]
        }
      ],
      "source": [
        "# @title\n",
        "# catatan: jalankan instalasi googletrans terlebih dahulu\n",
        "\n",
        "import requests as req\n",
        "import datetime\n",
        "from googletrans import Translator\n",
        "translator = Translator()\n",
        "#from pprint import pprint\n",
        "\n",
        "print('SELAMAT DATANG DI PEMANTAU CUACA')\n",
        "\n",
        "kota=input('Masukkan lokasi: ')\n",
        "\n",
        "API_Key='1fe8457671f9721a8e9d6555a3bce9cb'\n",
        "base_url='http://api.openweathermap.org/data/2.5/weather?appid='+API_Key+\"&q=\"+kota\n",
        "data_cuaca=req.get(base_url).json()\n",
        "\n",
        "#pprint(data_cuaca)\n",
        "waktu_unix=(data_cuaca['dt'])\n",
        "waktu_unix+=25200\n",
        "waktu=datetime.datetime.fromtimestamp(waktu_unix)\n",
        "cuaca=(data_cuaca['weather'][0]['description'])\n",
        "cuaca_tr= translator.translate(cuaca, src='en', dest='id')\n",
        "suhu=(data_cuaca['main']['temp'])\n",
        "tekanan_udara=(data_cuaca['main']['pressure'])\n",
        "kelembaban=(data_cuaca['main']['humidity'])\n",
        "\n",
        "print(waktu)\n",
        "print('Cuaca di', kota, cuaca_tr.text)\n",
        "print('Suhu \\t\\t: ',round((suhu-273), 2),'derajat celcius')\n",
        "print('Tekanan udara \\t: ', round((tekanan_udara*0.0009869233), 3), 'atm')\n",
        "print('Kelembaban \\t: ', kelembaban,'%')\n"
      ]
    },
    {
      "cell_type": "code",
      "source": [
        "%pip install googletrans==4.0.0rc1"
      ],
      "metadata": {
        "colab": {
          "base_uri": "https://localhost:8080/"
        },
        "id": "DcexE1zfU6yb",
        "outputId": "d6706ff3-2ffe-4f79-ca42-6891845d8f22"
      },
      "execution_count": null,
      "outputs": [
        {
          "output_type": "stream",
          "name": "stdout",
          "text": [
            "Looking in indexes: https://pypi.org/simple, https://us-python.pkg.dev/colab-wheels/public/simple/\n",
            "Requirement already satisfied: googletrans==4.0.0rc1 in /usr/local/lib/python3.8/dist-packages (4.0.0rc1)\n",
            "Requirement already satisfied: httpx==0.13.3 in /usr/local/lib/python3.8/dist-packages (from googletrans==4.0.0rc1) (0.13.3)\n",
            "Requirement already satisfied: idna==2.* in /usr/local/lib/python3.8/dist-packages (from httpx==0.13.3->googletrans==4.0.0rc1) (2.10)\n",
            "Requirement already satisfied: hstspreload in /usr/local/lib/python3.8/dist-packages (from httpx==0.13.3->googletrans==4.0.0rc1) (2023.1.1)\n",
            "Requirement already satisfied: chardet==3.* in /usr/local/lib/python3.8/dist-packages (from httpx==0.13.3->googletrans==4.0.0rc1) (3.0.4)\n",
            "Requirement already satisfied: sniffio in /usr/local/lib/python3.8/dist-packages (from httpx==0.13.3->googletrans==4.0.0rc1) (1.3.0)\n",
            "Requirement already satisfied: httpcore==0.9.* in /usr/local/lib/python3.8/dist-packages (from httpx==0.13.3->googletrans==4.0.0rc1) (0.9.1)\n",
            "Requirement already satisfied: certifi in /usr/local/lib/python3.8/dist-packages (from httpx==0.13.3->googletrans==4.0.0rc1) (2022.12.7)\n",
            "Requirement already satisfied: rfc3986<2,>=1.3 in /usr/local/lib/python3.8/dist-packages (from httpx==0.13.3->googletrans==4.0.0rc1) (1.5.0)\n",
            "Requirement already satisfied: h2==3.* in /usr/local/lib/python3.8/dist-packages (from httpcore==0.9.*->httpx==0.13.3->googletrans==4.0.0rc1) (3.2.0)\n",
            "Requirement already satisfied: h11<0.10,>=0.8 in /usr/local/lib/python3.8/dist-packages (from httpcore==0.9.*->httpx==0.13.3->googletrans==4.0.0rc1) (0.9.0)\n",
            "Requirement already satisfied: hpack<4,>=3.0 in /usr/local/lib/python3.8/dist-packages (from h2==3.*->httpcore==0.9.*->httpx==0.13.3->googletrans==4.0.0rc1) (3.0.0)\n",
            "Requirement already satisfied: hyperframe<6,>=5.2.0 in /usr/local/lib/python3.8/dist-packages (from h2==3.*->httpcore==0.9.*->httpx==0.13.3->googletrans==4.0.0rc1) (5.2.0)\n"
          ]
        }
      ]
    }
  ]
}